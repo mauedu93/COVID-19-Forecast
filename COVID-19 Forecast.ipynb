{
 "cells": [
  {
   "cell_type": "markdown",
   "metadata": {},
   "source": [
    "# COVID-19 Forecast"
   ]
  },
  {
   "cell_type": "markdown",
   "metadata": {},
   "source": [
    "On January 31, 2020, The United State Departement of Health and human services declared Coronavirus as a Public Health Emergency in The United States. This virus has disrupt the normal standard of living around the world. Predicting new cases is a great challenge as there are many variables to consider. My thesis is that there is a time-trend that can be identified in new cases, thus we can forecast new cases based on a model that related the number of positive cases and the time."
   ]
  },
  {
   "cell_type": "markdown",
   "metadata": {},
   "source": [
    "Firs, let's import the necesary libraries to work:"
   ]
  },
  {
   "cell_type": "code",
   "execution_count": 1,
   "metadata": {},
   "outputs": [],
   "source": [
    "import datetime as dt\n",
    "import pandas as pd\n",
    "import numpy as np\n",
    "from scipy.optimize import curve_fit\n",
    "from sklearn.metrics import r2_score\n",
    "import matplotlib.pyplot as plt\n",
    "\n",
    "%matplotlib inline"
   ]
  },
  {
   "cell_type": "markdown",
   "metadata": {},
   "source": [
    "## Data Analysis"
   ]
  },
  {
   "cell_type": "markdown",
   "metadata": {},
   "source": [
    "We will use data from WorldMeters. Importing our data from the csv file:"
   ]
  },
  {
   "cell_type": "code",
   "execution_count": 2,
   "metadata": {},
   "outputs": [
    {
     "data": {
      "text/html": [
       "<div>\n",
       "<style scoped>\n",
       "    .dataframe tbody tr th:only-of-type {\n",
       "        vertical-align: middle;\n",
       "    }\n",
       "\n",
       "    .dataframe tbody tr th {\n",
       "        vertical-align: top;\n",
       "    }\n",
       "\n",
       "    .dataframe thead th {\n",
       "        text-align: right;\n",
       "    }\n",
       "</style>\n",
       "<table border=\"1\" class=\"dataframe\">\n",
       "  <thead>\n",
       "    <tr style=\"text-align: right;\">\n",
       "      <th></th>\n",
       "      <th>date</th>\n",
       "      <th>state</th>\n",
       "      <th>positive</th>\n",
       "      <th>negative</th>\n",
       "      <th>pending</th>\n",
       "      <th>hospitalizedCurrently</th>\n",
       "      <th>hospitalizedCumulative</th>\n",
       "      <th>inIcuCurrently</th>\n",
       "      <th>inIcuCumulative</th>\n",
       "      <th>onVentilatorCurrently</th>\n",
       "      <th>...</th>\n",
       "      <th>posNeg</th>\n",
       "      <th>deathIncrease</th>\n",
       "      <th>hospitalizedIncrease</th>\n",
       "      <th>hash</th>\n",
       "      <th>commercialScore</th>\n",
       "      <th>negativeRegularScore</th>\n",
       "      <th>negativeScore</th>\n",
       "      <th>positiveScore</th>\n",
       "      <th>score</th>\n",
       "      <th>grade</th>\n",
       "    </tr>\n",
       "  </thead>\n",
       "  <tbody>\n",
       "    <tr>\n",
       "      <th>0</th>\n",
       "      <td>20200607</td>\n",
       "      <td>AK</td>\n",
       "      <td>544.0</td>\n",
       "      <td>64360.0</td>\n",
       "      <td>NaN</td>\n",
       "      <td>7.0</td>\n",
       "      <td>NaN</td>\n",
       "      <td>NaN</td>\n",
       "      <td>NaN</td>\n",
       "      <td>1.0</td>\n",
       "      <td>...</td>\n",
       "      <td>64904</td>\n",
       "      <td>0</td>\n",
       "      <td>-48</td>\n",
       "      <td>62adbd451838656b7df7519e830d6439be0b5877</td>\n",
       "      <td>0</td>\n",
       "      <td>0</td>\n",
       "      <td>0</td>\n",
       "      <td>0</td>\n",
       "      <td>0</td>\n",
       "      <td>NaN</td>\n",
       "    </tr>\n",
       "    <tr>\n",
       "      <th>1</th>\n",
       "      <td>20200607</td>\n",
       "      <td>AL</td>\n",
       "      <td>20500.0</td>\n",
       "      <td>239066.0</td>\n",
       "      <td>NaN</td>\n",
       "      <td>NaN</td>\n",
       "      <td>2022.0</td>\n",
       "      <td>NaN</td>\n",
       "      <td>615.0</td>\n",
       "      <td>NaN</td>\n",
       "      <td>...</td>\n",
       "      <td>259566</td>\n",
       "      <td>3</td>\n",
       "      <td>29</td>\n",
       "      <td>9040674078ce6afca363f8e95943845a032ab5d6</td>\n",
       "      <td>0</td>\n",
       "      <td>0</td>\n",
       "      <td>0</td>\n",
       "      <td>0</td>\n",
       "      <td>0</td>\n",
       "      <td>NaN</td>\n",
       "    </tr>\n",
       "    <tr>\n",
       "      <th>2</th>\n",
       "      <td>20200607</td>\n",
       "      <td>AR</td>\n",
       "      <td>9426.0</td>\n",
       "      <td>150847.0</td>\n",
       "      <td>NaN</td>\n",
       "      <td>145.0</td>\n",
       "      <td>844.0</td>\n",
       "      <td>NaN</td>\n",
       "      <td>NaN</td>\n",
       "      <td>35.0</td>\n",
       "      <td>...</td>\n",
       "      <td>160273</td>\n",
       "      <td>0</td>\n",
       "      <td>6</td>\n",
       "      <td>ef23d4d3f9e232bb5f58a59d79a27d2cb0797e2a</td>\n",
       "      <td>0</td>\n",
       "      <td>0</td>\n",
       "      <td>0</td>\n",
       "      <td>0</td>\n",
       "      <td>0</td>\n",
       "      <td>NaN</td>\n",
       "    </tr>\n",
       "    <tr>\n",
       "      <th>3</th>\n",
       "      <td>20200607</td>\n",
       "      <td>AS</td>\n",
       "      <td>0.0</td>\n",
       "      <td>174.0</td>\n",
       "      <td>NaN</td>\n",
       "      <td>NaN</td>\n",
       "      <td>NaN</td>\n",
       "      <td>NaN</td>\n",
       "      <td>NaN</td>\n",
       "      <td>NaN</td>\n",
       "      <td>...</td>\n",
       "      <td>174</td>\n",
       "      <td>0</td>\n",
       "      <td>0</td>\n",
       "      <td>893135d0d7a9340a91aca139f4e3bb289f418f71</td>\n",
       "      <td>0</td>\n",
       "      <td>0</td>\n",
       "      <td>0</td>\n",
       "      <td>0</td>\n",
       "      <td>0</td>\n",
       "      <td>NaN</td>\n",
       "    </tr>\n",
       "    <tr>\n",
       "      <th>4</th>\n",
       "      <td>20200607</td>\n",
       "      <td>AZ</td>\n",
       "      <td>26889.0</td>\n",
       "      <td>254732.0</td>\n",
       "      <td>NaN</td>\n",
       "      <td>1252.0</td>\n",
       "      <td>3352.0</td>\n",
       "      <td>392.0</td>\n",
       "      <td>NaN</td>\n",
       "      <td>248.0</td>\n",
       "      <td>...</td>\n",
       "      <td>281621</td>\n",
       "      <td>2</td>\n",
       "      <td>32</td>\n",
       "      <td>505a05efa5a9b912644a7ad16b2ab6f37330806b</td>\n",
       "      <td>0</td>\n",
       "      <td>0</td>\n",
       "      <td>0</td>\n",
       "      <td>0</td>\n",
       "      <td>0</td>\n",
       "      <td>NaN</td>\n",
       "    </tr>\n",
       "  </tbody>\n",
       "</table>\n",
       "<p>5 rows × 35 columns</p>\n",
       "</div>"
      ],
      "text/plain": [
       "       date state  positive  negative  pending  hospitalizedCurrently  \\\n",
       "0  20200607    AK     544.0   64360.0      NaN                    7.0   \n",
       "1  20200607    AL   20500.0  239066.0      NaN                    NaN   \n",
       "2  20200607    AR    9426.0  150847.0      NaN                  145.0   \n",
       "3  20200607    AS       0.0     174.0      NaN                    NaN   \n",
       "4  20200607    AZ   26889.0  254732.0      NaN                 1252.0   \n",
       "\n",
       "   hospitalizedCumulative  inIcuCurrently  inIcuCumulative  \\\n",
       "0                     NaN             NaN              NaN   \n",
       "1                  2022.0             NaN            615.0   \n",
       "2                   844.0             NaN              NaN   \n",
       "3                     NaN             NaN              NaN   \n",
       "4                  3352.0           392.0              NaN   \n",
       "\n",
       "   onVentilatorCurrently  ...  posNeg  deathIncrease hospitalizedIncrease  \\\n",
       "0                    1.0  ...   64904              0                  -48   \n",
       "1                    NaN  ...  259566              3                   29   \n",
       "2                   35.0  ...  160273              0                    6   \n",
       "3                    NaN  ...     174              0                    0   \n",
       "4                  248.0  ...  281621              2                   32   \n",
       "\n",
       "                                       hash commercialScore  \\\n",
       "0  62adbd451838656b7df7519e830d6439be0b5877               0   \n",
       "1  9040674078ce6afca363f8e95943845a032ab5d6               0   \n",
       "2  ef23d4d3f9e232bb5f58a59d79a27d2cb0797e2a               0   \n",
       "3  893135d0d7a9340a91aca139f4e3bb289f418f71               0   \n",
       "4  505a05efa5a9b912644a7ad16b2ab6f37330806b               0   \n",
       "\n",
       "  negativeRegularScore  negativeScore  positiveScore score  grade  \n",
       "0                    0              0              0     0    NaN  \n",
       "1                    0              0              0     0    NaN  \n",
       "2                    0              0              0     0    NaN  \n",
       "3                    0              0              0     0    NaN  \n",
       "4                    0              0              0     0    NaN  \n",
       "\n",
       "[5 rows x 35 columns]"
      ]
     },
     "execution_count": 2,
     "metadata": {},
     "output_type": "execute_result"
    }
   ],
   "source": [
    "df = pd.read_csv('daily.csv')\n",
    "df.head()\n"
   ]
  },
  {
   "cell_type": "markdown",
   "metadata": {},
   "source": [
    "We can have a quick look of columns names and data type using <code>dtypes</code> property from pandas"
   ]
  },
  {
   "cell_type": "code",
   "execution_count": 3,
   "metadata": {
    "scrolled": true
   },
   "outputs": [
    {
     "name": "stdout",
     "output_type": "stream",
     "text": [
      "date                          int64\n",
      "state                        object\n",
      "positive                    float64\n",
      "negative                    float64\n",
      "pending                     float64\n",
      "hospitalizedCurrently       float64\n",
      "hospitalizedCumulative      float64\n",
      "inIcuCurrently              float64\n",
      "inIcuCumulative             float64\n",
      "onVentilatorCurrently       float64\n",
      "onVentilatorCumulative      float64\n",
      "recovered                   float64\n",
      "dataQualityGrade             object\n",
      "lastUpdateEt                 object\n",
      "dateModified                 object\n",
      "checkTimeEt                  object\n",
      "death                       float64\n",
      "hospitalized                float64\n",
      "dateChecked                  object\n",
      "fips                          int64\n",
      "positiveIncrease              int64\n",
      "negativeIncrease              int64\n",
      "total                         int64\n",
      "totalTestResults              int64\n",
      "totalTestResultsIncrease      int64\n",
      "posNeg                        int64\n",
      "deathIncrease                 int64\n",
      "hospitalizedIncrease          int64\n",
      "hash                         object\n",
      "commercialScore               int64\n",
      "negativeRegularScore          int64\n",
      "negativeScore                 int64\n",
      "positiveScore                 int64\n",
      "score                         int64\n",
      "grade                       float64\n",
      "dtype: object\n"
     ]
    }
   ],
   "source": [
    "print(df.dtypes)"
   ]
  },
  {
   "cell_type": "markdown",
   "metadata": {},
   "source": [
    "As noticed, the date column is in integer format. We can convert this one into a date format using <code>datetime</code>"
   ]
  },
  {
   "cell_type": "code",
   "execution_count": 5,
   "metadata": {},
   "outputs": [],
   "source": [
    "df['date'] = [dt.datetime.strptime(str(x), '%Y%m%d') for x in df['date']]"
   ]
  },
  {
   "cell_type": "markdown",
   "metadata": {},
   "source": [
    "We want to find a trend in the new cases. So, let's start our analysis looking into the variable positive throughout time and comparing this one with the number of deaths."
   ]
  },
  {
   "cell_type": "code",
   "execution_count": 6,
   "metadata": {},
   "outputs": [],
   "source": [
    "df_positive = df.groupby('date')['positive'].sum()\n",
    "df_death = df.groupby('date')['death'].sum()\n",
    "\n",
    "fig, axes = plt.subplots(nrows = 2, ncols = 1, figsize = (15,15))\n",
    "df_positive.plot(ax=axes[0], legend=True)\n",
    "df_death.plot(ax=axes[1], legend=True)\n",
    "\n",
    "axes[0].set_title('Positive Cases')\n",
    "axes[1].set_title('Total Death')"
   ]
  },
  {
   "cell_type": "markdown",
   "metadata": {},
   "source": [
    "In the graph, we can notice that the number of cases from January to late March were relatively low and the growth rate was stable. Just starting April, we have an inflection point and the growth in positive cases start to increase drastically. During May, the marginal growth rate achieves its peak and then this marginal growth starts to dimish. What this means is that we still have a positive growth in the number of new cases but at a lower rate."
   ]
  },
  {
   "cell_type": "markdown",
   "metadata": {},
   "source": [
    "Based on that, it will be interesting to check what is the look of the natural logarithm function of these two variables. Let's plot the natural logarithm for Positive Cases and Total Deaths"
   ]
  },
  {
   "cell_type": "code",
   "execution_count": 8,
   "metadata": {},
   "outputs": [
    {
     "name": "stderr",
     "output_type": "stream",
     "text": [
      "C:\\ProgramData\\Anaconda3\\lib\\site-packages\\pandas\\core\\series.py:679: RuntimeWarning: divide by zero encountered in log\n",
      "  result = getattr(ufunc, method)(*inputs, **kwargs)\n"
     ]
    }
   ],
   "source": [
    "dfln_positive = np.log(df_positive)\n",
    "dfln_death = np.log(df_death)\n",
    "\n",
    "fig, axes = plt.subplots(nrows = 2, ncols = 1, figsize = (15,15))\n",
    "dfln_positive.plot(ax=axes[0], legend=True)\n",
    "dfln_death.plot(ax=axes[1], legend=True)\n",
    "\n",
    "axes[0].set_title('Ln Positive Cases')\n",
    "axes[1].set_title('Ln Total Death')"
   ]
  },
  {
   "cell_type": "markdown",
   "metadata": {},
   "source": [
    "#### conclusion:\n",
    "For positive new cases and total death, we clearly appreciate an exponential trend. This means that our model has to reflect this nonlinear feature in order to maximize accuracy in our forecast."
   ]
  },
  {
   "cell_type": "markdown",
   "metadata": {},
   "source": [
    "## Choosing the model"
   ]
  },
  {
   "cell_type": "markdown",
   "metadata": {},
   "source": [
    "Now that we identified that our main variable, positive cases, follows an exponential trend let's find out what is the best model that could fit our data. But first, lest get a new data frame with only our two variables. The independent variable is time and our dependent variable is positive cases."
   ]
  },
  {
   "cell_type": "code",
   "execution_count": 10,
   "metadata": {},
   "outputs": [
    {
     "data": {
      "text/html": [
       "<div>\n",
       "<style scoped>\n",
       "    .dataframe tbody tr th:only-of-type {\n",
       "        vertical-align: middle;\n",
       "    }\n",
       "\n",
       "    .dataframe tbody tr th {\n",
       "        vertical-align: top;\n",
       "    }\n",
       "\n",
       "    .dataframe thead th {\n",
       "        text-align: right;\n",
       "    }\n",
       "</style>\n",
       "<table border=\"1\" class=\"dataframe\">\n",
       "  <thead>\n",
       "    <tr style=\"text-align: right;\">\n",
       "      <th></th>\n",
       "      <th>time</th>\n",
       "      <th>positive</th>\n",
       "    </tr>\n",
       "    <tr>\n",
       "      <th>date</th>\n",
       "      <th></th>\n",
       "      <th></th>\n",
       "    </tr>\n",
       "  </thead>\n",
       "  <tbody>\n",
       "    <tr>\n",
       "      <th>2020-01-22</th>\n",
       "      <td>0</td>\n",
       "      <td>1.0</td>\n",
       "    </tr>\n",
       "    <tr>\n",
       "      <th>2020-01-23</th>\n",
       "      <td>1</td>\n",
       "      <td>1.0</td>\n",
       "    </tr>\n",
       "    <tr>\n",
       "      <th>2020-01-24</th>\n",
       "      <td>2</td>\n",
       "      <td>1.0</td>\n",
       "    </tr>\n",
       "    <tr>\n",
       "      <th>2020-01-25</th>\n",
       "      <td>3</td>\n",
       "      <td>1.0</td>\n",
       "    </tr>\n",
       "    <tr>\n",
       "      <th>2020-01-26</th>\n",
       "      <td>4</td>\n",
       "      <td>1.0</td>\n",
       "    </tr>\n",
       "    <tr>\n",
       "      <th>...</th>\n",
       "      <td>...</td>\n",
       "      <td>...</td>\n",
       "    </tr>\n",
       "    <tr>\n",
       "      <th>2020-06-03</th>\n",
       "      <td>133</td>\n",
       "      <td>1844235.0</td>\n",
       "    </tr>\n",
       "    <tr>\n",
       "      <th>2020-06-04</th>\n",
       "      <td>134</td>\n",
       "      <td>1864775.0</td>\n",
       "    </tr>\n",
       "    <tr>\n",
       "      <th>2020-06-05</th>\n",
       "      <td>135</td>\n",
       "      <td>1893167.0</td>\n",
       "    </tr>\n",
       "    <tr>\n",
       "      <th>2020-06-06</th>\n",
       "      <td>136</td>\n",
       "      <td>1916229.0</td>\n",
       "    </tr>\n",
       "    <tr>\n",
       "      <th>2020-06-07</th>\n",
       "      <td>137</td>\n",
       "      <td>1936161.0</td>\n",
       "    </tr>\n",
       "  </tbody>\n",
       "</table>\n",
       "<p>138 rows × 2 columns</p>\n",
       "</div>"
      ],
      "text/plain": [
       "            time   positive\n",
       "date                       \n",
       "2020-01-22     0        1.0\n",
       "2020-01-23     1        1.0\n",
       "2020-01-24     2        1.0\n",
       "2020-01-25     3        1.0\n",
       "2020-01-26     4        1.0\n",
       "...          ...        ...\n",
       "2020-06-03   133  1844235.0\n",
       "2020-06-04   134  1864775.0\n",
       "2020-06-05   135  1893167.0\n",
       "2020-06-06   136  1916229.0\n",
       "2020-06-07   137  1936161.0\n",
       "\n",
       "[138 rows x 2 columns]"
      ]
     },
     "execution_count": 10,
     "metadata": {},
     "output_type": "execute_result"
    }
   ],
   "source": [
    "df = pd.read_csv('daily.csv')\n",
    "df2 = df.groupby('date')['positive'].sum()\n",
    "df2 = df_positive.to_frame()\n",
    "df2.insert(0, 'time', range(0, len(df_positive)))\n",
    "df2"
   ]
  },
  {
   "cell_type": "code",
   "execution_count": 12,
   "metadata": {},
   "outputs": [],
   "source": [
    "x_data, y_data = (df2['time'].values, df2['positive'].values)"
   ]
  },
  {
   "cell_type": "markdown",
   "metadata": {},
   "source": [
    "In my opinion a logistic function best suit the characteristics that we are looking. starting with a slow growth, increasing growth in the middle, and then decreasing again at the end. So let's define a function in the form of:\n",
    "\n",
    "$$ \\hat{Y} = \\frac1{1+e^{\\beta_1(X-\\beta_2)}}$$\n",
    "\n",
    "$\\beta_1$: Controls the curve's steepness,\n",
    "\n",
    "$\\beta_2$: Slides the curve on the x-axis."
   ]
  },
  {
   "cell_type": "code",
   "execution_count": 13,
   "metadata": {},
   "outputs": [],
   "source": [
    "def sigmoid(x, Beta_1, Beta_2):\n",
    "    y = 1 / (1 + np.exp(-Beta_1*(x-Beta_2)))\n",
    "    return y"
   ]
  },
  {
   "cell_type": "markdown",
   "metadata": {},
   "source": [
    "## Building the model"
   ]
  },
  {
   "cell_type": "markdown",
   "metadata": {},
   "source": [
    "Finding the best parameters $\\beta_1$ and $\\beta_2$. Let's normalize first our data."
   ]
  },
  {
   "cell_type": "code",
   "execution_count": 14,
   "metadata": {},
   "outputs": [],
   "source": [
    "xdata =x_data/max(x_data)\n",
    "ydata =y_data/max(y_data)"
   ]
  },
  {
   "cell_type": "markdown",
   "metadata": {},
   "source": [
    "We can use __curve_fit__ to optimize the sigmoid function using non-linear least squares to fit our data"
   ]
  },
  {
   "cell_type": "code",
   "execution_count": 15,
   "metadata": {},
   "outputs": [
    {
     "name": "stdout",
     "output_type": "stream",
     "text": [
      " beta_1 = 9.680973, beta_2 = 0.705089\n"
     ]
    }
   ],
   "source": [
    "popt, pcov = curve_fit(sigmoid, xdata, ydata)\n",
    "#print the final parameters\n",
    "print(\" beta_1 = %f, beta_2 = %f\" % (popt[0], popt[1]))"
   ]
  },
  {
   "cell_type": "markdown",
   "metadata": {},
   "source": [
    "## Model evaluation"
   ]
  },
  {
   "cell_type": "markdown",
   "metadata": {},
   "source": [
    "Once we obtained the most optimal parameters, we want to know how accurate our forecast will predict positive cases. Let's first take a look to the graphic representation between our data and the best fit line. "
   ]
  },
  {
   "cell_type": "code",
   "execution_count": 18,
   "metadata": {},
   "outputs": [
    {
     "data": {
      "image/png": "[encoded data removed]",
      "text/plain": [
       "<Figure size 1080x1080 with 1 Axes>"
      ]
     },
     "metadata": {
      "needs_background": "light"
     },
     "output_type": "display_data"
    }
   ],
   "source": [
    "x = df2['time']\n",
    "x = x/max(x)\n",
    "plt.figure(figsize=(15,15))\n",
    "y = sigmoid(x, *popt)\n",
    "plt.plot(xdata, ydata, 'ro', label='data')\n",
    "plt.plot(x,y, linewidth=3.0, label='fit')\n",
    "plt.legend(loc='best')\n",
    "plt.ylabel('Positive Cases')\n",
    "plt.xlabel('Time')\n",
    "plt.show()"
   ]
  },
  {
   "cell_type": "markdown",
   "metadata": {},
   "source": [
    "As we can see, the model fits really close to the variable that we want to predict. However, the inflection points seem to be critical. Let's calculate the Mean absolute error, MSE, and R2 of our model."
   ]
  },
  {
   "cell_type": "code",
   "execution_count": 23,
   "metadata": {},
   "outputs": [
    {
     "name": "stdout",
     "output_type": "stream",
     "text": [
      "Mean absolute error: 0.0211\n",
      "Residual sum of squares (MSE): 0.0007\n",
      "R2-score: 0.9945\n"
     ]
    }
   ],
   "source": [
    "msk = np.random.rand(len(df2)) < 0.8\n",
    "train_x = xdata[msk]\n",
    "test_x = xdata[~msk]\n",
    "train_y = ydata[msk]\n",
    "test_y = ydata[~msk]\n",
    "\n",
    "#build model using test data\n",
    "popt, pcov = curve_fit(sigmoid, train_x, train_y)\n",
    "\n",
    "#predict using test set\n",
    "y_hat = sigmoid(test_x, *popt)\n",
    "\n",
    "# evaluation\n",
    "print(\"Mean absolute error: %.4f\" % np.mean(np.absolute(y_hat - test_y)))\n",
    "print(\"Residual sum of squares (MSE): %.4f\" % np.mean((y_hat - test_y) ** 2))\n",
    "print(\"R2-score: %.4f\" % r2_score(y_hat , test_y) )"
   ]
  },
  {
   "cell_type": "markdown",
   "metadata": {},
   "source": [
    "As notice above, The R2 is considerably high which means that our model has a strong predictive capacity.  The MSE is low which is in line with the result reflected in the R2."
   ]
  },
  {
   "cell_type": "markdown",
   "metadata": {},
   "source": [
    "## Forecast"
   ]
  },
  {
   "cell_type": "markdown",
   "metadata": {},
   "source": [
    "We can generate the forecast using the sigmoid function defined above for the next 60 days"
   ]
  },
  {
   "cell_type": "code",
   "execution_count": 32,
   "metadata": {},
   "outputs": [
    {
     "name": "stdout",
     "output_type": "stream",
     "text": [
      "[1.0, 1.0, 1.0, 1.0, 1.0, 1.0, 1.0, 1.0, 1.0, 1.0, 1.0, 1.0, 1.0, 1.0, 1.0, 1.0, 1.0, 1.0, 1.0, 1.0, 1.0, 1.0, 1.0, 1.0, 1.0, 1.0, 1.0, 1.0, 1.0, 1.0, 1.0, 1.0, 1.0, 1.0, 1.0, 1.0, 1.0, 1.0, 1.0, 1.0, 1.0, 1.0, 1.0, 1.0, 1.0, 1.0, 1.0, 1.0, 1.0, 1.0, 1.0, 1.0, 1.0, 1.0, 1.0, 1.0, 1.0, 1.0, 1.0, 1.0]\n"
     ]
    }
   ],
   "source": [
    "forecast = [sigmoid(x, *popt) for x in range(139,199)]\n",
    "print(forecast)"
   ]
  },
  {
   "cell_type": "markdown",
   "metadata": {},
   "source": [
    "This numbers are not meaningful as we normalized our data before, we have to conver our data back to our starting units to have a more meaningful result. Due to time, I am only defining the function that will help to transfor our data to our original scale."
   ]
  },
  {
   "cell_type": "code",
   "execution_count": 26,
   "metadata": {},
   "outputs": [],
   "source": [
    "def detrans(forecast,beta_1,beta_2): \n",
    "    x = ((np.log(1-forecast))/forecast)/beta_1+beta_2\n",
    "    return x"
   ]
  },
  {
   "cell_type": "markdown",
   "metadata": {},
   "source": [
    "__Note:__ In order to get the number of new cases per day we will have to deduct the current period forecast minus the previous period forecast."
   ]
  },
  {
   "cell_type": "markdown",
   "metadata": {},
   "source": [
    "## Future Improvements:\n",
    "\n",
    "- We could use the variable positive increase instead of total positive cases so we don't have to make many transformations at the end of our forecast. \n",
    "\n",
    "- We could run more test to identify Heteroskedasticity (non-constant variance in errors) or serial correlation (correlation in the time series) and make the appropriate correction based on findings.\n"
   ]
  },
  {
   "cell_type": "markdown",
   "metadata": {},
   "source": [
    "*Elaborated by:* Mauricio Castro"
   ]
  },
  {
   "cell_type": "code",
   "execution_count": null,
   "metadata": {},
   "outputs": [],
   "source": []
  }
 ],
 "metadata": {
  "kernelspec": {
   "display_name": "Python 3",
   "language": "python",
   "name": "python3"
  },
  "language_info": {
   "codemirror_mode": {
    "name": "ipython",
    "version": 3
   },
   "file_extension": ".py",
   "mimetype": "text/x-python",
   "name": "python",
   "nbconvert_exporter": "python",
   "pygments_lexer": "ipython3",
   "version": "3.7.6"
  }
 },
 "nbformat": 4,
 "nbformat_minor": 4
}
